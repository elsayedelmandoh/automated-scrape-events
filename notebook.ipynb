{
 "cells": [
  {
   "cell_type": "markdown",
   "metadata": {},
   "source": [
    "# Detection of Events in Qatar: \n",
    "\n",
    "building an automated tool to scrape events content from local websites and have them ready to be inserted in a database which can eventually be used in our mobile app (examples: Visit Qatar, ILoveQatar, Qatar Calendar, QF Website, QU Website, etc.). We plan to use the NER  (Named Entity Recognition) technique and/or a Large Language Model (LLM)."
   ]
  },
  {
   "cell_type": "markdown",
   "metadata": {},
   "source": [
    "Customized solution for building automated tool to scrape event content from local websites in Qatar"
   ]
  },
  {
   "cell_type": "markdown",
   "metadata": {},
   "source": [
    "Customized Plan for Event Content Scraper\n"
   ]
  },
  {
   "cell_type": "markdown",
   "metadata": {},
   "source": [
    "#### 1. Identify Target Websites\n",
    "\n",
    "- Visit Qatar\n",
    "- ILoveQatar\n",
    "- Qatar Calendar\n",
    "- QF Website\n",
    "- QU Website"
   ]
  },
  {
   "cell_type": "markdown",
   "metadata": {},
   "source": [
    "#### 2. Web Scraping\n",
    "\n",
    "**Tools:**\n",
    "- **Scrapy**: For comprehensive and scalable web scraping.\n",
    "- **Selenium**: For dynamic content and JavaScript-heavy websites.\n",
    "\n",
    "**Implementation:**\n",
    "- **Scrapy**:\n",
    "  - Create individual spiders for each website.\n",
    "  - Handle pagination, login, and session management if necessary.\n"
   ]
  },
  {
   "cell_type": "code",
   "execution_count": null,
   "metadata": {},
   "outputs": [],
   "source": [
    "import scrapy"
   ]
  },
  {
   "cell_type": "code",
   "execution_count": null,
   "metadata": {},
   "outputs": [],
   "source": [
    "class EventSpider(scrapy.Spider):\n",
    "    name = \"event_spider\"\n",
    "    start_urls = ['https://example.com/events']\n",
    "\n",
    "    def parse(self, response):\n",
    "        for event in response.css('div.event'):\n",
    "            yield {\n",
    "                'name': event.css('h2::text').get(),\n",
    "                'date': event.css('span.date::text').get(),\n",
    "                'location': event.css('span.location::text').get(),\n",
    "                'description': event.css('p.description::text').get(),\n",
    "            }\n",
    "        next_page = response.css('a.next::attr(href)').get()\n",
    "        if next_page is not None:\n",
    "            yield response.follow(next_page, self.parse)"
   ]
  },
  {
   "cell_type": "markdown",
   "metadata": {},
   "source": [
    "- **Selenium**:\n",
    "  - Use for websites requiring JavaScript execution."
   ]
  },
  {
   "cell_type": "code",
   "execution_count": null,
   "metadata": {},
   "outputs": [],
   "source": [
    "from selenium import webdriver\n"
   ]
  },
  {
   "cell_type": "code",
   "execution_count": null,
   "metadata": {},
   "outputs": [],
   "source": [
    "driver = webdriver.Chrome()\n",
    "driver.get('https://example.com/events')\n",
    "\n",
    "events = driver.find_elements_by_class_name('event')\n",
    "for event in events:\n",
    "    name = event.find_element_by_tag_name('h2').text\n",
    "    date = event.find_element_by_class_name('date').text\n",
    "    location = event.find_element_by_class_name('location').text\n",
    "    description = event.find_element_by_class_name('description').text\n",
    "    print(name, date, location, description)\n",
    "\n",
    "driver.quit()"
   ]
  },
  {
   "cell_type": "markdown",
   "metadata": {},
   "source": [
    "#### 3. Data Storage\n",
    "\n",
    "**Database:**\n",
    "- **PostgreSQL**: For structured data and complex queries.\n"
   ]
  },
  {
   "cell_type": "markdown",
   "metadata": {},
   "source": [
    "**Schema Design:**\n",
    "```\n",
    "CREATE TABLE events (\n",
    "    id SERIAL PRIMARY KEY,\n",
    "    name VARCHAR(255),\n",
    "    date DATE,\n",
    "    location VARCHAR(255),\n",
    "    description TEXT\n",
    ");\n",
    "sql```"
   ]
  },
  {
   "cell_type": "markdown",
   "metadata": {},
   "source": [
    "#### 4. NER and LLM\n",
    "\n",
    "**NER Tools:**\n",
    "- **SpaCy**: Efficient for entity recognition.\n"
   ]
  },
  {
   "cell_type": "code",
   "execution_count": null,
   "metadata": {},
   "outputs": [],
   "source": [
    "import spacy"
   ]
  },
  {
   "cell_type": "code",
   "execution_count": null,
   "metadata": {},
   "outputs": [],
   "source": [
    "nlp = spacy.load(\"en_core_web_sm\")\n",
    "\n",
    "def extract_entities(text):\n",
    "    doc = nlp(text)\n",
    "    return [(ent.text, ent.label_) for ent in doc.ents]"
   ]
  },
  {
   "cell_type": "markdown",
   "metadata": {},
   "source": [
    "**LLM for Enhanced Extraction:**\n",
    "- **Hugging Face Transformers**: Use pre-trained models like BERT for more accurate extraction.\n"
   ]
  },
  {
   "cell_type": "code",
   "execution_count": null,
   "metadata": {},
   "outputs": [],
   "source": [
    "from transformers import pipeline\n"
   ]
  },
  {
   "cell_type": "code",
   "execution_count": null,
   "metadata": {},
   "outputs": [],
   "source": [
    "nlp = pipeline(\"ner\", model=\"dbmdz/bert-large-cased-finetuned-conll03-english\")\n",
    "\n",
    "def enhanced_extraction(text):\n",
    "    return nlp(text)"
   ]
  },
  {
   "cell_type": "markdown",
   "metadata": {},
   "source": [
    "#### 5. Integration and API Development\n",
    "\n",
    "**API Development:**\n",
    "- **FastAPI**: Modern, fast (high-performance), web framework for building APIs with Python."
   ]
  },
  {
   "cell_type": "code",
   "execution_count": null,
   "metadata": {},
   "outputs": [],
   "source": [
    "from fastapi import FastAPI\n",
    "import psycopg2\n"
   ]
  },
  {
   "cell_type": "code",
   "execution_count": null,
   "metadata": {},
   "outputs": [],
   "source": [
    "app = FastAPI()\n",
    "\n",
    "@app.get(\"/events\")\n",
    "def get_events():\n",
    "    conn = psycopg2.connect(\"dbname=events user=youruser password=yourpassword\")\n",
    "    cur = conn.cursor()\n",
    "    cur.execute(\"SELECT * FROM events\")\n",
    "    events = cur.fetchall()\n",
    "    cur.close()\n",
    "    conn.close()\n",
    "    return events"
   ]
  },
  {
   "cell_type": "markdown",
   "metadata": {},
   "source": [
    "#### 6. Automation and Scheduling\n",
    "\n",
    "**Task Scheduling:**\n",
    "- **Apache Airflow**: For orchestrating complex workflows and ensuring tasks run on schedule.\n"
   ]
  },
  {
   "cell_type": "markdown",
   "metadata": {},
   "source": [
    "**Airflow DAG:**"
   ]
  },
  {
   "cell_type": "code",
   "execution_count": null,
   "metadata": {},
   "outputs": [],
   "source": [
    "from airflow import DAG\n",
    "from airflow.operators.python_operator import PythonOperator\n",
    "from datetime import datetime, timedelta\n",
    "import scrapy_script  # Your scrapy script here"
   ]
  },
  {
   "cell_type": "code",
   "execution_count": null,
   "metadata": {},
   "outputs": [],
   "source": [
    "default_args = {\n",
    "    'owner': 'airflow',\n",
    "    'depends_on_past': False,\n",
    "    'start_date': datetime(2024, 1, 1),\n",
    "    'email_on_failure': False,\n",
    "    'email_on_retry': False,\n",
    "    'retries': 1,\n",
    "    'retry_delay': timedelta(minutes=5),\n",
    "}\n",
    "default_args"
   ]
  },
  {
   "cell_type": "code",
   "execution_count": null,
   "metadata": {},
   "outputs": [],
   "source": [
    "dag = DAG(\n",
    "    'event_scraping',\n",
    "    default_args=default_args,\n",
    "    description='Scraping event data',\n",
    "    schedule_interval=timedelta(days=1),\n",
    ")\n",
    "dag"
   ]
  },
  {
   "cell_type": "code",
   "execution_count": null,
   "metadata": {},
   "outputs": [],
   "source": [
    "def run_scrapy():\n",
    "    # implementation lsa htt3ml \n",
    "    scrapy_script.run()\n",
    "\n",
    "run_scrapy_task = PythonOperator(\n",
    "    task_id='run_scrapy',\n",
    "    python_callable=run_scrapy,\n",
    "    dag=dag,\n",
    ")"
   ]
  },
  {
   "cell_type": "markdown",
   "metadata": {},
   "source": [
    "### Summary of Tools and Technologies\n",
    "\n",
    "1. **Web Scraping**: Scrapy, Selenium\n",
    "2. **Database**: PostgreSQL\n",
    "3. **NER**: SpaCy\n",
    "4. **LLM**: Hugging Face Transformers\n",
    "5. **API Development**: FastAPI\n",
    "6. **Task Scheduling**: Apache Airflow\n"
   ]
  }
 ],
 "metadata": {
  "kernelspec": {
   "display_name": "Python 3",
   "language": "python",
   "name": "python3"
  },
  "language_info": {
   "name": "python",
   "version": "3.11.4"
  }
 },
 "nbformat": 4,
 "nbformat_minor": 2
}
